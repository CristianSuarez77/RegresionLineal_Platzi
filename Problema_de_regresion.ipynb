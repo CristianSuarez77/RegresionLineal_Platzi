{
  "nbformat": 4,
  "nbformat_minor": 0,
  "metadata": {
    "colab": {
      "provenance": [],
      "gpuType": "T4",
      "authorship_tag": "ABX9TyPyVii0gBjknghmFn7vKuez",
      "include_colab_link": true
    },
    "kernelspec": {
      "name": "python3",
      "display_name": "Python 3"
    },
    "language_info": {
      "name": "python"
    },
    "accelerator": "GPU"
  },
  "cells": [
    {
      "cell_type": "markdown",
      "metadata": {
        "id": "view-in-github",
        "colab_type": "text"
      },
      "source": [
        "<a href=\"https://colab.research.google.com/github/CristianSuarez77/RegresionLineal_Platzi/blob/main/Problema_de_regresion.ipynb\" target=\"_parent\"><img src=\"https://colab.research.google.com/assets/colab-badge.svg\" alt=\"Open In Colab\"/></a>"
      ]
    },
    {
      "cell_type": "markdown",
      "source": [
        "Este es un problema para poder predecir el precio de un inmueble, teniendo en cuenta datos como la criminalidad del sector, tamaño, # de baños,etc."
      ],
      "metadata": {
        "id": "aehazBQNn3_l"
      }
    },
    {
      "cell_type": "code",
      "execution_count": 2,
      "metadata": {
        "id": "pSoU9VVukiNi"
      },
      "outputs": [],
      "source": [
        "import pandas as pd\n",
        "import numpy as np\n",
        "from keras.datasets import boston_housing\n",
        "from keras import layers, models, optimizers"
      ]
    },
    {
      "cell_type": "code",
      "source": [
        "(train_data, train_targets), (test_data, test_targets) = boston_housing.load_data()"
      ],
      "metadata": {
        "id": "tlpVx67_k5Pv",
        "colab": {
          "base_uri": "https://localhost:8080/"
        },
        "outputId": "5d5c616e-4e75-4104-e776-656d05a5ccae"
      },
      "execution_count": 3,
      "outputs": [
        {
          "output_type": "stream",
          "name": "stdout",
          "text": [
            "Downloading data from https://storage.googleapis.com/tensorflow/tf-keras-datasets/boston_housing.npz\n",
            "\u001b[1m57026/57026\u001b[0m \u001b[32m━━━━━━━━━━━━━━━━━━━━\u001b[0m\u001b[37m\u001b[0m \u001b[1m0s\u001b[0m 1us/step\n"
          ]
        }
      ]
    },
    {
      "cell_type": "code",
      "source": [
        "train_data.shape # tenemos 404 con 13 variables"
      ],
      "metadata": {
        "colab": {
          "base_uri": "https://localhost:8080/"
        },
        "id": "IFKLSJe0nxT-",
        "outputId": "e7f916ed-996d-4d92-cd0a-98e804d42d91"
      },
      "execution_count": 4,
      "outputs": [
        {
          "output_type": "execute_result",
          "data": {
            "text/plain": [
              "(404, 13)"
            ]
          },
          "metadata": {},
          "execution_count": 4
        }
      ]
    },
    {
      "cell_type": "code",
      "source": [
        "train_targets.shape"
      ],
      "metadata": {
        "colab": {
          "base_uri": "https://localhost:8080/"
        },
        "id": "OveXoe7moa7H",
        "outputId": "97c171c6-efd3-4855-8bb7-4d90c6e2c69d"
      },
      "execution_count": 5,
      "outputs": [
        {
          "output_type": "execute_result",
          "data": {
            "text/plain": [
              "(404,)"
            ]
          },
          "metadata": {},
          "execution_count": 5
        }
      ]
    },
    {
      "cell_type": "code",
      "source": [
        "train_data[0]"
      ],
      "metadata": {
        "colab": {
          "base_uri": "https://localhost:8080/"
        },
        "id": "Ud0T8eQqoqJW",
        "outputId": "f7994719-e8fb-4dbd-ec5d-a87d1a8c913e"
      },
      "execution_count": 6,
      "outputs": [
        {
          "output_type": "execute_result",
          "data": {
            "text/plain": [
              "array([  1.23247,   0.     ,   8.14   ,   0.     ,   0.538  ,   6.142  ,\n",
              "        91.7    ,   3.9769 ,   4.     , 307.     ,  21.     , 396.9    ,\n",
              "        18.72   ])"
            ]
          },
          "metadata": {},
          "execution_count": 6
        }
      ]
    },
    {
      "cell_type": "markdown",
      "source": [
        "Tenemos que normalizar estos datos, ya que hay # muy pequeños y otros muy grandes, y la red puede darle mayor importancia(peso) a esos numeros, cuando en realidad son solo una caracteristica de esa variable"
      ],
      "metadata": {
        "id": "Ts0hZr7Eo_mm"
      }
    },
    {
      "cell_type": "code",
      "source": [
        "train_targets[0] #esa casa cuesta 15.2 dolares"
      ],
      "metadata": {
        "colab": {
          "base_uri": "https://localhost:8080/"
        },
        "id": "LlO_mxWRoigO",
        "outputId": "2936376e-f0ab-495d-db90-8a292d6c31d9"
      },
      "execution_count": 7,
      "outputs": [
        {
          "output_type": "execute_result",
          "data": {
            "text/plain": [
              "np.float64(15.2)"
            ]
          },
          "metadata": {},
          "execution_count": 7
        }
      ]
    },
    {
      "cell_type": "markdown",
      "source": [
        "Un proceso de normalizacion sencilla que es restar la media y dividir por la desviacion estandar"
      ],
      "metadata": {
        "id": "FjogZ3J-pfVh"
      }
    },
    {
      "cell_type": "markdown",
      "source": [
        "## Normalización"
      ],
      "metadata": {
        "id": "s10DIH-POjbz"
      }
    },
    {
      "cell_type": "code",
      "source": [
        "mean = train_data.mean(axis=0) # decimos que la media en train_data en la media por el eje cero va a ser igual a la media\n",
        "train_data = train_data - mean\n",
        "std = train_data.std(axis=0) #std-> desviacion estandar\n",
        "train_data = train_data / std # con esto normalizamos todos nuestros datos de 0 a 1\n",
        "\n",
        "test_data = test_data - mean # no se saca los atributos de test_data porque con la data de test es con los que voy a entrenar no le deberia darle info..\n",
        "test_data = test_data / std # de otros datos, porque se supone que no la tengo y solo la veo hasta que evalue mis modelos"
      ],
      "metadata": {
        "id": "VNHa6_CJpZgk"
      },
      "execution_count": 8,
      "outputs": []
    },
    {
      "cell_type": "markdown",
      "source": [
        "Vamos a crear una funcion que se capaz de entregar modelos de datos, porque ya no voy a evaluar solo sobre un set de entrenamiento sino voy a hacer croos_validation o kfolvalidation( rotar todo mi set de validaciuon en todo mi set de entrenamiento) muy utilizado en machine learning"
      ],
      "metadata": {
        "id": "wuA7wTk5r9Rg"
      }
    },
    {
      "cell_type": "code",
      "source": [
        "def build_model_regression(input_data):\n",
        "    model = models.Sequential()\n",
        "    model.add(layers.Dense(64, activation = 'relu', input_shape=(input_data,)))\n",
        "    model.add(layers.Dense(64, activation = 'relu'))\n",
        "    model.add(layers.Dense(1)) #esta ultima capa me da el resultado pero no es una clasificacion, me va a dar un numero (el valor de la casa) un numero continuo..\n",
        "                           # lo que quiere decir que tiene una estructura lineal, y como es lineal no necesita una capa  de activacion (solo a esta ultima)\n",
        "    model.compile(optimizer = 'rmsprop', loss = 'mse', metrics = ['mae'])\n",
        "    return model"
      ],
      "metadata": {
        "id": "UWiynzUesiAr"
      },
      "execution_count": 9,
      "outputs": []
    },
    {
      "cell_type": "markdown",
      "source": [
        "Loss-> funcion de perdida, esta funcion de perdida no me va a clasificar no vale que sea cross_entropy, pero si sirve que sea el error cuadratico medio(mse)\n",
        "por ultimo se crea una metrica de presicion, para el caso de las regresiones no va a haber accuracy pero si va a haber el mean absolut error (mae) como se trabaja en regeresion lineal"
      ],
      "metadata": {
        "id": "U7t5Bh9UuI_P"
      }
    },
    {
      "cell_type": "markdown",
      "source": [
        "Ahora vamos a hacer el Kfol_validation o iterar sobre nuestro set de entrenamiento el set de validacion, porque no quiero una validacion fija quiero que la validacion vaya cambiando en el set de entrenamiento"
      ],
      "metadata": {
        "id": "erqBsoh5v3Dd"
      }
    },
    {
      "cell_type": "code",
      "source": [
        "k = 4                                  # quiero dividirlo en 4 sets de validacion o iteraciones\n",
        "num_val_samples = len(train_data) // k #num_val va a ser igual a cuantos ejemplos tengo, tengo len en train_data divido k\n",
        "num_epoch = 90\n",
        "all_history = []                       # vamos a guardar todas las iteraciones que vamos a hacer en el kfol validation en todas las historias"
      ],
      "metadata": {
        "id": "UXO6izZ6vwr2"
      },
      "execution_count": 10,
      "outputs": []
    },
    {
      "cell_type": "code",
      "source": [
        "0*num_val_samples\n",
        "(0+1) * num_val_samples # con esto va de 101 a 202 la data de validacion y el resto que funcione como entrenamiento"
      ],
      "metadata": {
        "colab": {
          "base_uri": "https://localhost:8080/"
        },
        "id": "nZPZL2Cw2dnv",
        "outputId": "71db7649-4128-4771-8f2b-34a69f50a84f"
      },
      "execution_count": 11,
      "outputs": [
        {
          "output_type": "execute_result",
          "data": {
            "text/plain": [
              "101"
            ]
          },
          "metadata": {},
          "execution_count": 11
        }
      ]
    },
    {
      "cell_type": "code",
      "source": [
        "for i in range(k):\n",
        "      print(\"Fold:\", i)\n",
        "      val_data = train_data[i*num_val_samples : (i+1)*num_val_samples]# se crea el set de val = a train_data pero vamos a sesgarlo [desde : hasta]\n",
        "      val_targets = train_targets[i*num_val_samples : (i+1)*num_val_samples]# ya tenemos los sets de validacion por cada iteracion\n",
        "\n",
        "      partial_train_data = np.concatenate( # vamos a concatenar todo lo que no es validacion\n",
        "          [train_data[:i * num_val_samples], #train_data en la posicion.. i por el # ejemplos concatenbado con\n",
        "           train_data[(i+1) * num_val_samples:] #train data abrimos desde i+1 por el nuemro de ejemplos y todo de ahi para alla\n",
        "           ],\n",
        "          axis = 0)# y esto lo vamos a concatenar a gtraves del axis cero o eje cero\n",
        "\n",
        "      partial_train_targets = np.concatenate(\n",
        "          [train_targets[:i * num_val_samples],\n",
        "           train_targets[(i+1) * num_val_samples:]\n",
        "           ],\n",
        "          axis = 0)\n",
        "\n",
        "      model = build_model_regression(13)\n",
        "      history = model.fit(partial_train_data, partial_train_targets,\n",
        "                    epochs = num_epoch,\n",
        "                    batch_size = 16,\n",
        "                    validation_data = (val_data, val_targets),\n",
        "                    verbose = 0)\n",
        "      all_history.append(history.history['val_mae'])"
      ],
      "metadata": {
        "colab": {
          "base_uri": "https://localhost:8080/"
        },
        "id": "vS82dYrv25aN",
        "outputId": "7f71ce36-dc60-47e5-e97d-98d2ce2c568f"
      },
      "execution_count": 12,
      "outputs": [
        {
          "output_type": "stream",
          "name": "stdout",
          "text": [
            "Fold: 0\n"
          ]
        },
        {
          "output_type": "stream",
          "name": "stderr",
          "text": [
            "/usr/local/lib/python3.11/dist-packages/keras/src/layers/core/dense.py:87: UserWarning: Do not pass an `input_shape`/`input_dim` argument to a layer. When using Sequential models, prefer using an `Input(shape)` object as the first layer in the model instead.\n",
            "  super().__init__(activity_regularizer=activity_regularizer, **kwargs)\n"
          ]
        },
        {
          "output_type": "stream",
          "name": "stdout",
          "text": [
            "Fold: 1\n",
            "Fold: 2\n",
            "Fold: 3\n"
          ]
        }
      ]
    },
    {
      "cell_type": "markdown",
      "source": [
        "Podemos ver nuestro all_history tiene 80 resultados porque rtenemos 80 epocas, nosotros tenemos 4 lotes de a 80 respuestas, resultados en la iteracion del MAE"
      ],
      "metadata": {
        "id": "j8b7OkALTxPi"
      }
    },
    {
      "cell_type": "code",
      "source": [
        "all_history[0]"
      ],
      "metadata": {
        "colab": {
          "base_uri": "https://localhost:8080/"
        },
        "id": "_woxs7FiTwIK",
        "outputId": "6a78fb03-4f64-4b7f-99a0-086456002d91"
      },
      "execution_count": null,
      "outputs": [
        {
          "output_type": "execute_result",
          "data": {
            "text/plain": [
              "[18.405372619628906,\n",
              " 14.50390911102295,\n",
              " 9.597980499267578,\n",
              " 5.999291896820068,\n",
              " 4.425680160522461,\n",
              " 3.759326934814453,\n",
              " 3.484934091567993,\n",
              " 3.3736841678619385,\n",
              " 3.313781499862671,\n",
              " 3.2749440670013428,\n",
              " 2.94366717338562,\n",
              " 2.9501028060913086,\n",
              " 2.8129405975341797,\n",
              " 2.7501468658447266,\n",
              " 2.695991039276123,\n",
              " 2.563469409942627,\n",
              " 2.5221102237701416,\n",
              " 2.6297390460968018,\n",
              " 2.4352893829345703,\n",
              " 2.3541629314422607,\n",
              " 2.333134174346924,\n",
              " 2.2549221515655518,\n",
              " 2.449751138687134,\n",
              " 2.159428119659424,\n",
              " 2.1875903606414795,\n",
              " 2.1795661449432373,\n",
              " 2.084073305130005,\n",
              " 2.25398850440979,\n",
              " 2.1057472229003906,\n",
              " 2.157884120941162,\n",
              " 2.0265231132507324,\n",
              " 2.1513075828552246,\n",
              " 2.002133369445801,\n",
              " 2.099407196044922,\n",
              " 2.0264105796813965,\n",
              " 1.9931832551956177,\n",
              " 2.0496714115142822,\n",
              " 1.955241322517395,\n",
              " 2.033337354660034,\n",
              " 2.0671441555023193,\n",
              " 2.0129802227020264,\n",
              " 2.1263480186462402,\n",
              " 2.0016298294067383,\n",
              " 2.193812131881714,\n",
              " 1.9498906135559082,\n",
              " 1.9112147092819214,\n",
              " 1.9447791576385498,\n",
              " 1.9516085386276245,\n",
              " 2.0024914741516113,\n",
              " 1.9042497873306274,\n",
              " 2.0949559211730957,\n",
              " 1.953458547592163,\n",
              " 2.119999885559082,\n",
              " 1.9071681499481201,\n",
              " 1.9655975103378296,\n",
              " 1.927067518234253,\n",
              " 1.9662667512893677,\n",
              " 1.969653844833374,\n",
              " 2.1199822425842285,\n",
              " 2.0393459796905518,\n",
              " 2.031450033187866,\n",
              " 2.1548385620117188,\n",
              " 1.9319881200790405,\n",
              " 2.0097289085388184,\n",
              " 1.8886531591415405,\n",
              " 1.9061710834503174,\n",
              " 1.922494888305664,\n",
              " 1.9608783721923828,\n",
              " 2.1633658409118652,\n",
              " 1.9355922937393188,\n",
              " 1.9064431190490723,\n",
              " 1.8836147785186768,\n",
              " 1.8853161334991455,\n",
              " 1.887213945388794,\n",
              " 1.9503201246261597,\n",
              " 2.1220896244049072,\n",
              " 2.0260424613952637,\n",
              " 1.9823665618896484,\n",
              " 2.0054075717926025,\n",
              " 1.941971778869629]"
            ]
          },
          "metadata": {},
          "execution_count": 51
        }
      ]
    },
    {
      "cell_type": "code",
      "source": [
        "len(all_history[0])"
      ],
      "metadata": {
        "colab": {
          "base_uri": "https://localhost:8080/"
        },
        "id": "R4eCbrjA8X9P",
        "outputId": "2c8c3c9a-52ba-45ee-feb4-0aa520bac656"
      },
      "execution_count": null,
      "outputs": [
        {
          "output_type": "execute_result",
          "data": {
            "text/plain": [
              "80"
            ]
          },
          "metadata": {},
          "execution_count": 50
        }
      ]
    },
    {
      "cell_type": "markdown",
      "source": [
        "Vamos a tomar todos lo valores de las 4 iteraciones y promediarlos  "
      ],
      "metadata": {
        "id": "zlpTVY2BUZ20"
      }
    },
    {
      "cell_type": "code",
      "source": [
        "pd.DataFrame(all_history)"
      ],
      "metadata": {
        "colab": {
          "base_uri": "https://localhost:8080/",
          "height": 224
        },
        "id": "Y8ig0LrkV7QC",
        "outputId": "50b18790-55c5-461a-83fe-59bffa7c8743"
      },
      "execution_count": null,
      "outputs": [
        {
          "output_type": "execute_result",
          "data": {
            "text/plain": [
              "          0          1          2         3         4         5         6   \\\n",
              "0  18.405373  14.503909   9.597980  5.999292  4.425680  3.759327  3.484934   \n",
              "1  18.010849  14.097271   9.599248  6.388093  5.092613  4.365220  3.835886   \n",
              "2  18.200804  14.593586  10.522158  7.978242  6.302361  5.178325  4.366987   \n",
              "3  21.271704  17.692963  13.091865  9.120085  7.015890  5.808828  4.983382   \n",
              "\n",
              "         7         8         9   ...        70        71        72        73  \\\n",
              "0  3.373684  3.313781  3.274944  ...  1.906443  1.883615  1.885316  1.887214   \n",
              "1  3.613510  3.442912  3.268063  ...  2.578405  2.585308  2.628250  2.551913   \n",
              "2  3.878901  3.620912  3.448721  ...  2.428010  2.393430  2.449370  2.624004   \n",
              "3  4.359196  3.976184  3.738546  ...  2.455133  2.508363  2.512828  2.492511   \n",
              "\n",
              "         74        75        76        77        78        79  \n",
              "0  1.950320  2.122090  2.026042  1.982367  2.005408  1.941972  \n",
              "1  2.664103  2.567949  2.620031  2.583211  2.585610  2.620621  \n",
              "2  2.466795  2.448393  2.419948  2.421419  2.424644  2.394382  \n",
              "3  2.575372  2.514243  2.485309  2.477595  2.464717  2.488714  \n",
              "\n",
              "[4 rows x 80 columns]"
            ],
            "text/html": [
              "\n",
              "  <div id=\"df-afb038de-de52-4c56-9629-2c6a9388f44e\" class=\"colab-df-container\">\n",
              "    <div>\n",
              "<style scoped>\n",
              "    .dataframe tbody tr th:only-of-type {\n",
              "        vertical-align: middle;\n",
              "    }\n",
              "\n",
              "    .dataframe tbody tr th {\n",
              "        vertical-align: top;\n",
              "    }\n",
              "\n",
              "    .dataframe thead th {\n",
              "        text-align: right;\n",
              "    }\n",
              "</style>\n",
              "<table border=\"1\" class=\"dataframe\">\n",
              "  <thead>\n",
              "    <tr style=\"text-align: right;\">\n",
              "      <th></th>\n",
              "      <th>0</th>\n",
              "      <th>1</th>\n",
              "      <th>2</th>\n",
              "      <th>3</th>\n",
              "      <th>4</th>\n",
              "      <th>5</th>\n",
              "      <th>6</th>\n",
              "      <th>7</th>\n",
              "      <th>8</th>\n",
              "      <th>9</th>\n",
              "      <th>...</th>\n",
              "      <th>70</th>\n",
              "      <th>71</th>\n",
              "      <th>72</th>\n",
              "      <th>73</th>\n",
              "      <th>74</th>\n",
              "      <th>75</th>\n",
              "      <th>76</th>\n",
              "      <th>77</th>\n",
              "      <th>78</th>\n",
              "      <th>79</th>\n",
              "    </tr>\n",
              "  </thead>\n",
              "  <tbody>\n",
              "    <tr>\n",
              "      <th>0</th>\n",
              "      <td>18.405373</td>\n",
              "      <td>14.503909</td>\n",
              "      <td>9.597980</td>\n",
              "      <td>5.999292</td>\n",
              "      <td>4.425680</td>\n",
              "      <td>3.759327</td>\n",
              "      <td>3.484934</td>\n",
              "      <td>3.373684</td>\n",
              "      <td>3.313781</td>\n",
              "      <td>3.274944</td>\n",
              "      <td>...</td>\n",
              "      <td>1.906443</td>\n",
              "      <td>1.883615</td>\n",
              "      <td>1.885316</td>\n",
              "      <td>1.887214</td>\n",
              "      <td>1.950320</td>\n",
              "      <td>2.122090</td>\n",
              "      <td>2.026042</td>\n",
              "      <td>1.982367</td>\n",
              "      <td>2.005408</td>\n",
              "      <td>1.941972</td>\n",
              "    </tr>\n",
              "    <tr>\n",
              "      <th>1</th>\n",
              "      <td>18.010849</td>\n",
              "      <td>14.097271</td>\n",
              "      <td>9.599248</td>\n",
              "      <td>6.388093</td>\n",
              "      <td>5.092613</td>\n",
              "      <td>4.365220</td>\n",
              "      <td>3.835886</td>\n",
              "      <td>3.613510</td>\n",
              "      <td>3.442912</td>\n",
              "      <td>3.268063</td>\n",
              "      <td>...</td>\n",
              "      <td>2.578405</td>\n",
              "      <td>2.585308</td>\n",
              "      <td>2.628250</td>\n",
              "      <td>2.551913</td>\n",
              "      <td>2.664103</td>\n",
              "      <td>2.567949</td>\n",
              "      <td>2.620031</td>\n",
              "      <td>2.583211</td>\n",
              "      <td>2.585610</td>\n",
              "      <td>2.620621</td>\n",
              "    </tr>\n",
              "    <tr>\n",
              "      <th>2</th>\n",
              "      <td>18.200804</td>\n",
              "      <td>14.593586</td>\n",
              "      <td>10.522158</td>\n",
              "      <td>7.978242</td>\n",
              "      <td>6.302361</td>\n",
              "      <td>5.178325</td>\n",
              "      <td>4.366987</td>\n",
              "      <td>3.878901</td>\n",
              "      <td>3.620912</td>\n",
              "      <td>3.448721</td>\n",
              "      <td>...</td>\n",
              "      <td>2.428010</td>\n",
              "      <td>2.393430</td>\n",
              "      <td>2.449370</td>\n",
              "      <td>2.624004</td>\n",
              "      <td>2.466795</td>\n",
              "      <td>2.448393</td>\n",
              "      <td>2.419948</td>\n",
              "      <td>2.421419</td>\n",
              "      <td>2.424644</td>\n",
              "      <td>2.394382</td>\n",
              "    </tr>\n",
              "    <tr>\n",
              "      <th>3</th>\n",
              "      <td>21.271704</td>\n",
              "      <td>17.692963</td>\n",
              "      <td>13.091865</td>\n",
              "      <td>9.120085</td>\n",
              "      <td>7.015890</td>\n",
              "      <td>5.808828</td>\n",
              "      <td>4.983382</td>\n",
              "      <td>4.359196</td>\n",
              "      <td>3.976184</td>\n",
              "      <td>3.738546</td>\n",
              "      <td>...</td>\n",
              "      <td>2.455133</td>\n",
              "      <td>2.508363</td>\n",
              "      <td>2.512828</td>\n",
              "      <td>2.492511</td>\n",
              "      <td>2.575372</td>\n",
              "      <td>2.514243</td>\n",
              "      <td>2.485309</td>\n",
              "      <td>2.477595</td>\n",
              "      <td>2.464717</td>\n",
              "      <td>2.488714</td>\n",
              "    </tr>\n",
              "  </tbody>\n",
              "</table>\n",
              "<p>4 rows × 80 columns</p>\n",
              "</div>\n",
              "    <div class=\"colab-df-buttons\">\n",
              "\n",
              "  <div class=\"colab-df-container\">\n",
              "    <button class=\"colab-df-convert\" onclick=\"convertToInteractive('df-afb038de-de52-4c56-9629-2c6a9388f44e')\"\n",
              "            title=\"Convert this dataframe to an interactive table.\"\n",
              "            style=\"display:none;\">\n",
              "\n",
              "  <svg xmlns=\"http://www.w3.org/2000/svg\" height=\"24px\" viewBox=\"0 -960 960 960\">\n",
              "    <path d=\"M120-120v-720h720v720H120Zm60-500h600v-160H180v160Zm220 220h160v-160H400v160Zm0 220h160v-160H400v160ZM180-400h160v-160H180v160Zm440 0h160v-160H620v160ZM180-180h160v-160H180v160Zm440 0h160v-160H620v160Z\"/>\n",
              "  </svg>\n",
              "    </button>\n",
              "\n",
              "  <style>\n",
              "    .colab-df-container {\n",
              "      display:flex;\n",
              "      gap: 12px;\n",
              "    }\n",
              "\n",
              "    .colab-df-convert {\n",
              "      background-color: #E8F0FE;\n",
              "      border: none;\n",
              "      border-radius: 50%;\n",
              "      cursor: pointer;\n",
              "      display: none;\n",
              "      fill: #1967D2;\n",
              "      height: 32px;\n",
              "      padding: 0 0 0 0;\n",
              "      width: 32px;\n",
              "    }\n",
              "\n",
              "    .colab-df-convert:hover {\n",
              "      background-color: #E2EBFA;\n",
              "      box-shadow: 0px 1px 2px rgba(60, 64, 67, 0.3), 0px 1px 3px 1px rgba(60, 64, 67, 0.15);\n",
              "      fill: #174EA6;\n",
              "    }\n",
              "\n",
              "    .colab-df-buttons div {\n",
              "      margin-bottom: 4px;\n",
              "    }\n",
              "\n",
              "    [theme=dark] .colab-df-convert {\n",
              "      background-color: #3B4455;\n",
              "      fill: #D2E3FC;\n",
              "    }\n",
              "\n",
              "    [theme=dark] .colab-df-convert:hover {\n",
              "      background-color: #434B5C;\n",
              "      box-shadow: 0px 1px 3px 1px rgba(0, 0, 0, 0.15);\n",
              "      filter: drop-shadow(0px 1px 2px rgba(0, 0, 0, 0.3));\n",
              "      fill: #FFFFFF;\n",
              "    }\n",
              "  </style>\n",
              "\n",
              "    <script>\n",
              "      const buttonEl =\n",
              "        document.querySelector('#df-afb038de-de52-4c56-9629-2c6a9388f44e button.colab-df-convert');\n",
              "      buttonEl.style.display =\n",
              "        google.colab.kernel.accessAllowed ? 'block' : 'none';\n",
              "\n",
              "      async function convertToInteractive(key) {\n",
              "        const element = document.querySelector('#df-afb038de-de52-4c56-9629-2c6a9388f44e');\n",
              "        const dataTable =\n",
              "          await google.colab.kernel.invokeFunction('convertToInteractive',\n",
              "                                                    [key], {});\n",
              "        if (!dataTable) return;\n",
              "\n",
              "        const docLinkHtml = 'Like what you see? Visit the ' +\n",
              "          '<a target=\"_blank\" href=https://colab.research.google.com/notebooks/data_table.ipynb>data table notebook</a>'\n",
              "          + ' to learn more about interactive tables.';\n",
              "        element.innerHTML = '';\n",
              "        dataTable['output_type'] = 'display_data';\n",
              "        await google.colab.output.renderOutput(dataTable, element);\n",
              "        const docLink = document.createElement('div');\n",
              "        docLink.innerHTML = docLinkHtml;\n",
              "        element.appendChild(docLink);\n",
              "      }\n",
              "    </script>\n",
              "  </div>\n",
              "\n",
              "\n",
              "<div id=\"df-e52c9387-983a-42db-875f-d0433c57b5a0\">\n",
              "  <button class=\"colab-df-quickchart\" onclick=\"quickchart('df-e52c9387-983a-42db-875f-d0433c57b5a0')\"\n",
              "            title=\"Suggest charts\"\n",
              "            style=\"display:none;\">\n",
              "\n",
              "<svg xmlns=\"http://www.w3.org/2000/svg\" height=\"24px\"viewBox=\"0 0 24 24\"\n",
              "     width=\"24px\">\n",
              "    <g>\n",
              "        <path d=\"M19 3H5c-1.1 0-2 .9-2 2v14c0 1.1.9 2 2 2h14c1.1 0 2-.9 2-2V5c0-1.1-.9-2-2-2zM9 17H7v-7h2v7zm4 0h-2V7h2v10zm4 0h-2v-4h2v4z\"/>\n",
              "    </g>\n",
              "</svg>\n",
              "  </button>\n",
              "\n",
              "<style>\n",
              "  .colab-df-quickchart {\n",
              "      --bg-color: #E8F0FE;\n",
              "      --fill-color: #1967D2;\n",
              "      --hover-bg-color: #E2EBFA;\n",
              "      --hover-fill-color: #174EA6;\n",
              "      --disabled-fill-color: #AAA;\n",
              "      --disabled-bg-color: #DDD;\n",
              "  }\n",
              "\n",
              "  [theme=dark] .colab-df-quickchart {\n",
              "      --bg-color: #3B4455;\n",
              "      --fill-color: #D2E3FC;\n",
              "      --hover-bg-color: #434B5C;\n",
              "      --hover-fill-color: #FFFFFF;\n",
              "      --disabled-bg-color: #3B4455;\n",
              "      --disabled-fill-color: #666;\n",
              "  }\n",
              "\n",
              "  .colab-df-quickchart {\n",
              "    background-color: var(--bg-color);\n",
              "    border: none;\n",
              "    border-radius: 50%;\n",
              "    cursor: pointer;\n",
              "    display: none;\n",
              "    fill: var(--fill-color);\n",
              "    height: 32px;\n",
              "    padding: 0;\n",
              "    width: 32px;\n",
              "  }\n",
              "\n",
              "  .colab-df-quickchart:hover {\n",
              "    background-color: var(--hover-bg-color);\n",
              "    box-shadow: 0 1px 2px rgba(60, 64, 67, 0.3), 0 1px 3px 1px rgba(60, 64, 67, 0.15);\n",
              "    fill: var(--button-hover-fill-color);\n",
              "  }\n",
              "\n",
              "  .colab-df-quickchart-complete:disabled,\n",
              "  .colab-df-quickchart-complete:disabled:hover {\n",
              "    background-color: var(--disabled-bg-color);\n",
              "    fill: var(--disabled-fill-color);\n",
              "    box-shadow: none;\n",
              "  }\n",
              "\n",
              "  .colab-df-spinner {\n",
              "    border: 2px solid var(--fill-color);\n",
              "    border-color: transparent;\n",
              "    border-bottom-color: var(--fill-color);\n",
              "    animation:\n",
              "      spin 1s steps(1) infinite;\n",
              "  }\n",
              "\n",
              "  @keyframes spin {\n",
              "    0% {\n",
              "      border-color: transparent;\n",
              "      border-bottom-color: var(--fill-color);\n",
              "      border-left-color: var(--fill-color);\n",
              "    }\n",
              "    20% {\n",
              "      border-color: transparent;\n",
              "      border-left-color: var(--fill-color);\n",
              "      border-top-color: var(--fill-color);\n",
              "    }\n",
              "    30% {\n",
              "      border-color: transparent;\n",
              "      border-left-color: var(--fill-color);\n",
              "      border-top-color: var(--fill-color);\n",
              "      border-right-color: var(--fill-color);\n",
              "    }\n",
              "    40% {\n",
              "      border-color: transparent;\n",
              "      border-right-color: var(--fill-color);\n",
              "      border-top-color: var(--fill-color);\n",
              "    }\n",
              "    60% {\n",
              "      border-color: transparent;\n",
              "      border-right-color: var(--fill-color);\n",
              "    }\n",
              "    80% {\n",
              "      border-color: transparent;\n",
              "      border-right-color: var(--fill-color);\n",
              "      border-bottom-color: var(--fill-color);\n",
              "    }\n",
              "    90% {\n",
              "      border-color: transparent;\n",
              "      border-bottom-color: var(--fill-color);\n",
              "    }\n",
              "  }\n",
              "</style>\n",
              "\n",
              "  <script>\n",
              "    async function quickchart(key) {\n",
              "      const quickchartButtonEl =\n",
              "        document.querySelector('#' + key + ' button');\n",
              "      quickchartButtonEl.disabled = true;  // To prevent multiple clicks.\n",
              "      quickchartButtonEl.classList.add('colab-df-spinner');\n",
              "      try {\n",
              "        const charts = await google.colab.kernel.invokeFunction(\n",
              "            'suggestCharts', [key], {});\n",
              "      } catch (error) {\n",
              "        console.error('Error during call to suggestCharts:', error);\n",
              "      }\n",
              "      quickchartButtonEl.classList.remove('colab-df-spinner');\n",
              "      quickchartButtonEl.classList.add('colab-df-quickchart-complete');\n",
              "    }\n",
              "    (() => {\n",
              "      let quickchartButtonEl =\n",
              "        document.querySelector('#df-e52c9387-983a-42db-875f-d0433c57b5a0 button');\n",
              "      quickchartButtonEl.style.display =\n",
              "        google.colab.kernel.accessAllowed ? 'block' : 'none';\n",
              "    })();\n",
              "  </script>\n",
              "</div>\n",
              "\n",
              "    </div>\n",
              "  </div>\n"
            ],
            "application/vnd.google.colaboratory.intrinsic+json": {
              "type": "dataframe"
            }
          },
          "metadata": {},
          "execution_count": 55
        }
      ]
    },
    {
      "cell_type": "markdown",
      "source": [
        "Ahora cambiamos las epocas a 500\n"
      ],
      "metadata": {
        "id": "4SBd_XCSXG3Q"
      }
    },
    {
      "cell_type": "code",
      "source": [
        "all_mae_avg = pd.DataFrame(all_history).mean(axis=0)#vamos a pasar todo esto a un dataframwe de all_history y sacamos la media por el eje cero"
      ],
      "metadata": {
        "id": "rDE5y6pXY1bd"
      },
      "execution_count": 13,
      "outputs": []
    },
    {
      "cell_type": "code",
      "source": [
        "all_mae_avg # tenemos una lista de 500 resultados del promedio de los 4"
      ],
      "metadata": {
        "colab": {
          "base_uri": "https://localhost:8080/",
          "height": 458
        },
        "id": "0o6IHXWLY4GV",
        "outputId": "e9c761cb-8a08-43c9-b5bc-082c3b06cbbd"
      },
      "execution_count": 14,
      "outputs": [
        {
          "output_type": "execute_result",
          "data": {
            "text/plain": [
              "0     19.075121\n",
              "1     15.409881\n",
              "2     11.074945\n",
              "3      7.511625\n",
              "4      5.609486\n",
              "        ...    \n",
              "85     2.397657\n",
              "86     2.317717\n",
              "87     2.286102\n",
              "88     2.395885\n",
              "89     2.344077\n",
              "Length: 90, dtype: float64"
            ],
            "text/html": [
              "<div>\n",
              "<style scoped>\n",
              "    .dataframe tbody tr th:only-of-type {\n",
              "        vertical-align: middle;\n",
              "    }\n",
              "\n",
              "    .dataframe tbody tr th {\n",
              "        vertical-align: top;\n",
              "    }\n",
              "\n",
              "    .dataframe thead th {\n",
              "        text-align: right;\n",
              "    }\n",
              "</style>\n",
              "<table border=\"1\" class=\"dataframe\">\n",
              "  <thead>\n",
              "    <tr style=\"text-align: right;\">\n",
              "      <th></th>\n",
              "      <th>0</th>\n",
              "    </tr>\n",
              "  </thead>\n",
              "  <tbody>\n",
              "    <tr>\n",
              "      <th>0</th>\n",
              "      <td>19.075121</td>\n",
              "    </tr>\n",
              "    <tr>\n",
              "      <th>1</th>\n",
              "      <td>15.409881</td>\n",
              "    </tr>\n",
              "    <tr>\n",
              "      <th>2</th>\n",
              "      <td>11.074945</td>\n",
              "    </tr>\n",
              "    <tr>\n",
              "      <th>3</th>\n",
              "      <td>7.511625</td>\n",
              "    </tr>\n",
              "    <tr>\n",
              "      <th>4</th>\n",
              "      <td>5.609486</td>\n",
              "    </tr>\n",
              "    <tr>\n",
              "      <th>...</th>\n",
              "      <td>...</td>\n",
              "    </tr>\n",
              "    <tr>\n",
              "      <th>85</th>\n",
              "      <td>2.397657</td>\n",
              "    </tr>\n",
              "    <tr>\n",
              "      <th>86</th>\n",
              "      <td>2.317717</td>\n",
              "    </tr>\n",
              "    <tr>\n",
              "      <th>87</th>\n",
              "      <td>2.286102</td>\n",
              "    </tr>\n",
              "    <tr>\n",
              "      <th>88</th>\n",
              "      <td>2.395885</td>\n",
              "    </tr>\n",
              "    <tr>\n",
              "      <th>89</th>\n",
              "      <td>2.344077</td>\n",
              "    </tr>\n",
              "  </tbody>\n",
              "</table>\n",
              "<p>90 rows × 1 columns</p>\n",
              "</div><br><label><b>dtype:</b> float64</label>"
            ]
          },
          "metadata": {},
          "execution_count": 14
        }
      ]
    },
    {
      "cell_type": "code",
      "source": [
        "import matplotlib.pyplot as plt\n",
        "\n",
        "fig = plt.figure(figsize = (10,7))\n",
        "plt.plot(range(1,len(all_mae_avg[15:])+1), all_mae_avg[15:]) #que haga un plot con el rnago que va de 1 hatsa la longitud que tenga mi all_mae y esto suamdo mas 1 porque\n",
        "                                                   #va 79 y queremos todo, ese es un eje y el que vamos a graficar es el MAE\n",
        "plt.show()\n"
      ],
      "metadata": {
        "colab": {
          "base_uri": "https://localhost:8080/",
          "height": 599
        },
        "id": "JiOBrMfuXMFM",
        "outputId": "5de55d95-232d-4b39-8974-43ac578c42ec"
      },
      "execution_count": 15,
      "outputs": [
        {
          "output_type": "display_data",
          "data": {
            "text/plain": [
              "<Figure size 1000x700 with 1 Axes>"
            ],
            "image/png": "[encoded data removed]"
          },
          "metadata": {}
        }
      ]
    },
    {
      "cell_type": "code",
      "source": [
        "model.evaluate(test_data, test_targets)"
      ],
      "metadata": {
        "colab": {
          "base_uri": "https://localhost:8080/"
        },
        "id": "vc2U08SKavby",
        "outputId": "97dacb76-03c2-48aa-82cb-eec11df3feaa"
      },
      "execution_count": 16,
      "outputs": [
        {
          "output_type": "stream",
          "name": "stdout",
          "text": [
            "\u001b[1m4/4\u001b[0m \u001b[32m━━━━━━━━━━━━━━━━━━━━\u001b[0m\u001b[37m\u001b[0m \u001b[1m0s\u001b[0m 77ms/step - loss: 13.9359 - mae: 2.5070\n"
          ]
        },
        {
          "output_type": "execute_result",
          "data": {
            "text/plain": [
              "[19.704723358154297, 2.733461856842041]"
            ]
          },
          "metadata": {},
          "execution_count": 16
        }
      ]
    },
    {
      "cell_type": "markdown",
      "source": [
        "Tenemos un modelo con una desviacion de 2700 dolares en el precio del inmueble"
      ],
      "metadata": {
        "id": "D9lsXgSvqr4S"
      }
    }
  ]
}